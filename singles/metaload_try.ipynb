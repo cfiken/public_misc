{
 "cells": [
  {
   "cell_type": "code",
   "execution_count": 1,
   "metadata": {},
   "outputs": [],
   "source": [
    "import tensorflow as tf\n",
    "import numpy as np\n",
    "from tensorflow.examples.tutorials.mnist import input_data"
   ]
  },
  {
   "cell_type": "code",
   "execution_count": 2,
   "metadata": {
    "scrolled": true
   },
   "outputs": [
    {
     "name": "stdout",
     "output_type": "stream",
     "text": [
      "WARNING:tensorflow:From <ipython-input-2-efeac9ee6b4a>:1: read_data_sets (from tensorflow.contrib.learn.python.learn.datasets.mnist) is deprecated and will be removed in a future version.\n",
      "Instructions for updating:\n",
      "Please use alternatives such as official/mnist/dataset.py from tensorflow/models.\n",
      "WARNING:tensorflow:From /home/kentaro.nakanishi/.local/share/virtualenvs/public_misc-gsFowdSw/lib/python3.6/site-packages/tensorflow/contrib/learn/python/learn/datasets/mnist.py:260: maybe_download (from tensorflow.contrib.learn.python.learn.datasets.base) is deprecated and will be removed in a future version.\n",
      "Instructions for updating:\n",
      "Please write your own downloading logic.\n",
      "WARNING:tensorflow:From /home/kentaro.nakanishi/.local/share/virtualenvs/public_misc-gsFowdSw/lib/python3.6/site-packages/tensorflow/contrib/learn/python/learn/datasets/mnist.py:262: extract_images (from tensorflow.contrib.learn.python.learn.datasets.mnist) is deprecated and will be removed in a future version.\n",
      "Instructions for updating:\n",
      "Please use tf.data to implement this functionality.\n",
      "Extracting data/train-images-idx3-ubyte.gz\n",
      "WARNING:tensorflow:From /home/kentaro.nakanishi/.local/share/virtualenvs/public_misc-gsFowdSw/lib/python3.6/site-packages/tensorflow/contrib/learn/python/learn/datasets/mnist.py:267: extract_labels (from tensorflow.contrib.learn.python.learn.datasets.mnist) is deprecated and will be removed in a future version.\n",
      "Instructions for updating:\n",
      "Please use tf.data to implement this functionality.\n",
      "Extracting data/train-labels-idx1-ubyte.gz\n",
      "WARNING:tensorflow:From /home/kentaro.nakanishi/.local/share/virtualenvs/public_misc-gsFowdSw/lib/python3.6/site-packages/tensorflow/contrib/learn/python/learn/datasets/mnist.py:110: dense_to_one_hot (from tensorflow.contrib.learn.python.learn.datasets.mnist) is deprecated and will be removed in a future version.\n",
      "Instructions for updating:\n",
      "Please use tf.one_hot on tensors.\n",
      "Extracting data/t10k-images-idx3-ubyte.gz\n",
      "Extracting data/t10k-labels-idx1-ubyte.gz\n",
      "WARNING:tensorflow:From /home/kentaro.nakanishi/.local/share/virtualenvs/public_misc-gsFowdSw/lib/python3.6/site-packages/tensorflow/contrib/learn/python/learn/datasets/mnist.py:290: DataSet.__init__ (from tensorflow.contrib.learn.python.learn.datasets.mnist) is deprecated and will be removed in a future version.\n",
      "Instructions for updating:\n",
      "Please use alternatives such as official/mnist/dataset.py from tensorflow/models.\n"
     ]
    }
   ],
   "source": [
    "mnist = input_data.read_data_sets(\"data/\", one_hot=True)\n",
    "test_data = mnist.test.images\n",
    "test_label = mnist.test.labels"
   ]
  },
  {
   "cell_type": "code",
   "execution_count": 3,
   "metadata": {},
   "outputs": [],
   "source": [
    "num_inputs = 784 # 28x28\n",
    "num_outputs = 10\n",
    "num_units = 128\n",
    "num_layers = 6\n",
    "batch_size = 64\n",
    "num_epocs= 200000\n",
    "learning_rate = 0.001\n",
    "dropout_rate = 0.1"
   ]
  },
  {
   "cell_type": "code",
   "execution_count": 4,
   "metadata": {},
   "outputs": [],
   "source": [
    "tf.reset_default_graph()"
   ]
  },
  {
   "cell_type": "code",
   "execution_count": 5,
   "metadata": {},
   "outputs": [],
   "source": [
    "class Model:\n",
    "    \n",
    "    def __init__(self):\n",
    "        # placeholder\n",
    "        self.x = tf.placeholder(dtype=tf.float32, shape=[None, num_inputs], name='inputs')\n",
    "        self.y = tf.placeholder(dtype=tf.float32, shape=[None, num_outputs], name='outputs')\n",
    "        self.is_training = tf.placeholder(dtype=tf.bool, name='is_training')\n",
    "\n",
    "        outputs = self.build(self.x)\n",
    "        self.loss = tf.reduce_mean(-tf.reduce_sum(self.y * tf.log(outputs + 10e-8), 1))\n",
    "        y_label = tf.argmax(self.y, 1)\n",
    "        outputs_label = tf.argmax(outputs, 1)\n",
    "        correct = tf.equal(y_label, outputs_label)\n",
    "        self.accuracy = tf.reduce_mean(tf.cast(correct, tf.float32), name='accuracy')\n",
    "        \n",
    "\n",
    "    def build(self, x):\n",
    "        layer = tf.layers.dropout(x, rate=dropout_rate, training=self.is_training)\n",
    "        for l in range(num_layers):\n",
    "            layer = tf.layers.dense(layer, num_units, tf.nn.relu, kernel_initializer=tf.truncated_normal_initializer(stddev=0.1), name='layer_{}'.format(l))\n",
    "            layer = tf.layers.dropout(layer, rate=dropout_rate , training=self.is_training, name='layer_dropout_{}'.format(l))\n",
    "\n",
    "        out = tf.layers.dense(layer,\n",
    "                                   num_outputs, \n",
    "                                   tf.nn.softmax, \n",
    "                                   kernel_initializer=tf.truncated_normal_initializer(stddev=0.1), \n",
    "                                   name='out_layer')\n",
    "        return out"
   ]
  },
  {
   "cell_type": "code",
   "execution_count": 6,
   "metadata": {},
   "outputs": [],
   "source": [
    "model = Model()\n",
    "global_step = tf.train.get_or_create_global_step()\n",
    "optimizer = tf.train.AdamOptimizer(learning_rate)\n",
    "train_op = optimizer.minimize(model.loss, global_step=global_step)"
   ]
  },
  {
   "cell_type": "code",
   "execution_count": 7,
   "metadata": {},
   "outputs": [
    {
     "name": "stdout",
     "output_type": "stream",
     "text": [
      "500 step loss: 0.35947439074516296\n",
      "1000 step loss: 0.11787652969360352\n",
      "1500 step loss: 0.04122721403837204\n",
      "2000 step loss: 0.055527590215206146\n",
      "2500 step loss: 0.10731075704097748\n",
      "3000 step loss: 0.06624156981706619\n",
      "3500 step loss: 0.07114188373088837\n",
      "4000 step loss: 0.04172685369849205\n",
      "4500 step loss: 0.08683545142412186\n",
      "5000 step loss: 0.1593484729528427\n"
     ]
    }
   ],
   "source": [
    "saver = tf.train.Saver()\n",
    "with tf.Session() as sess:\n",
    "    sess.run(tf.global_variables_initializer())\n",
    "    for i in range(5000):\n",
    "        train_data, train_label = mnist.train.next_batch(batch_size)\n",
    "        _, loss_value = sess.run([train_op, model.loss], feed_dict={\n",
    "            model.x: train_data,\n",
    "            model.y: train_label,\n",
    "            model.is_training: True\n",
    "        })\n",
    "        step = sess.run(global_step)\n",
    "        if step % 500 == 0:\n",
    "            print('{} step loss: {}'.format(step, loss_value))\n",
    "    saver.save(sess, 'ckpt/model.ckpt', step)"
   ]
  },
  {
   "cell_type": "markdown",
   "metadata": {},
   "source": [
    "## モデルのインスタンスを使う"
   ]
  },
  {
   "cell_type": "code",
   "execution_count": 8,
   "metadata": {
    "scrolled": true
   },
   "outputs": [
    {
     "name": "stdout",
     "output_type": "stream",
     "text": [
      "INFO:tensorflow:Restoring parameters from ckpt/model.ckpt-5000\n",
      "accuracy:  0.9726\n"
     ]
    }
   ],
   "source": [
    "tf.reset_default_graph()\n",
    "model = Model()\n",
    "saver = tf.train.Saver()\n",
    "with tf.Session() as sess:\n",
    "    ckpt_path = tf.train.latest_checkpoint('ckpt/')\n",
    "    saver.restore(sess, ckpt_path)\n",
    "    res = sess.run(model.accuracy, feed_dict={\n",
    "        model.x: test_data,\n",
    "        model.y: test_label,\n",
    "        model.is_training: False\n",
    "    })\n",
    "print('accuracy: ', res)"
   ]
  },
  {
   "cell_type": "markdown",
   "metadata": {},
   "source": [
    "## `.meta` を使う"
   ]
  },
  {
   "cell_type": "code",
   "execution_count": 9,
   "metadata": {
    "scrolled": true
   },
   "outputs": [
    {
     "name": "stdout",
     "output_type": "stream",
     "text": [
      "INFO:tensorflow:Restoring parameters from ckpt/model.ckpt-5000\n",
      "accuracy:  0.9726\n"
     ]
    }
   ],
   "source": [
    "tf.reset_default_graph()\n",
    "with tf.Session() as sess:\n",
    "    ckpt_path = tf.train.latest_checkpoint('ckpt/')\n",
    "    saver = tf.train.import_meta_graph(ckpt_path + '.meta')\n",
    "    saver.restore(sess, ckpt_path)\n",
    "    res = sess.run('accuracy:0', feed_dict={\n",
    "        'inputs:0': test_data,\n",
    "        'outputs:0': test_label,\n",
    "        'is_training:0': False\n",
    "    })\n",
    "print('accuracy: ', res)"
   ]
  },
  {
   "cell_type": "markdown",
   "metadata": {},
   "source": [
    "## `.meta` と `get_tensor_by_name` 使う"
   ]
  },
  {
   "cell_type": "code",
   "execution_count": 10,
   "metadata": {},
   "outputs": [
    {
     "name": "stdout",
     "output_type": "stream",
     "text": [
      "INFO:tensorflow:Restoring parameters from ckpt/model.ckpt-5000\n",
      "accuracy:  0.9726\n"
     ]
    }
   ],
   "source": [
    "tf.reset_default_graph()\n",
    "with tf.Session() as sess:\n",
    "    ckpt_path = tf.train.latest_checkpoint('ckpt/')\n",
    "    saver = tf.train.import_meta_graph(ckpt_path + '.meta')\n",
    "    saver.restore(sess, ckpt_path)\n",
    "    \n",
    "    is_training = tf.get_default_graph().get_tensor_by_name('is_training:0')\n",
    "    inputs = tf.get_default_graph().get_tensor_by_name('inputs:0')\n",
    "    outputs = tf.get_default_graph().get_tensor_by_name('outputs:0')\n",
    "    accuracy = tf.get_default_graph().get_tensor_by_name('accuracy:0')\n",
    "    res = sess.run(accuracy, feed_dict={\n",
    "        inputs: test_data,\n",
    "        outputs: test_label,\n",
    "        is_training: False\n",
    "    })\n",
    "print('accuracy: ', res)"
   ]
  },
  {
   "cell_type": "code",
   "execution_count": null,
   "metadata": {},
   "outputs": [],
   "source": []
  }
 ],
 "metadata": {
  "jupytext": {
   "main_language": "python",
   "text_representation": {
    "extension": ".py",
    "format_name": "light",
    "format_version": "1.3",
    "jupytext_version": "0.8.1"
   }
  },
  "kernelspec": {
   "display_name": "Python 3",
   "language": "python",
   "name": "python3"
  },
  "language_info": {
   "codemirror_mode": {
    "name": "ipython",
    "version": 3
   },
   "file_extension": ".py",
   "mimetype": "text/x-python",
   "name": "python",
   "nbconvert_exporter": "python",
   "pygments_lexer": "ipython3",
   "version": "3.6.5"
  }
 },
 "nbformat": 4,
 "nbformat_minor": 2
}
